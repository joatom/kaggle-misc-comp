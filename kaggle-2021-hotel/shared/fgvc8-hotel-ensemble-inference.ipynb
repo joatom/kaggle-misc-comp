{
 "cells": [
  {
   "cell_type": "code",
   "execution_count": 1,
   "id": "advanced-inclusion",
   "metadata": {
    "_cell_guid": "b1076dfc-b9ad-4769-8c92-a6c4dae69d19",
    "_uuid": "8f2839f25d086af736a60e9eeb907d3b93b6e0e5",
    "execution": {
     "iopub.execute_input": "2021-05-26T06:28:37.998834Z",
     "iopub.status.busy": "2021-05-26T06:28:37.998140Z",
     "iopub.status.idle": "2021-05-26T06:28:40.802837Z",
     "shell.execute_reply": "2021-05-26T06:28:40.802284Z",
     "shell.execute_reply.started": "2021-05-26T06:24:15.433446Z"
    },
    "papermill": {
     "duration": 2.824648,
     "end_time": "2021-05-26T06:28:40.803012",
     "exception": false,
     "start_time": "2021-05-26T06:28:37.978364",
     "status": "completed"
    },
    "tags": []
   },
   "outputs": [],
   "source": [
    "import pandas as pd\n",
    "import numpy as np\n",
    "import fastai\n",
    "from fastai.vision.all import *\n",
    "\n",
    "import dill"
   ]
  },
  {
   "cell_type": "code",
   "execution_count": 2,
   "id": "billion-glucose",
   "metadata": {
    "execution": {
     "iopub.execute_input": "2021-05-26T06:28:40.824242Z",
     "iopub.status.busy": "2021-05-26T06:28:40.823640Z",
     "iopub.status.idle": "2021-05-26T06:28:40.829625Z",
     "shell.execute_reply": "2021-05-26T06:28:40.829244Z",
     "shell.execute_reply.started": "2021-05-26T06:24:18.114421Z"
    },
    "papermill": {
     "duration": 0.018768,
     "end_time": "2021-05-26T06:28:40.829725",
     "exception": false,
     "start_time": "2021-05-26T06:28:40.810957",
     "status": "completed"
    },
    "tags": []
   },
   "outputs": [
    {
     "data": {
      "text/plain": [
       "('2.3.0', '1.7.0')"
      ]
     },
     "execution_count": 2,
     "metadata": {},
     "output_type": "execute_result"
    }
   ],
   "source": [
    "fastai.__version__, torch.__version__"
   ]
  },
  {
   "cell_type": "code",
   "execution_count": 3,
   "id": "equivalent-profit",
   "metadata": {
    "execution": {
     "iopub.execute_input": "2021-05-26T06:28:40.848817Z",
     "iopub.status.busy": "2021-05-26T06:28:40.848303Z",
     "iopub.status.idle": "2021-05-26T06:28:40.851553Z",
     "shell.execute_reply": "2021-05-26T06:28:40.851995Z",
     "shell.execute_reply.started": "2021-05-26T06:26:49.718593Z"
    },
    "papermill": {
     "duration": 0.014515,
     "end_time": "2021-05-26T06:28:40.852107",
     "exception": false,
     "start_time": "2021-05-26T06:28:40.837592",
     "status": "completed"
    },
    "tags": []
   },
   "outputs": [],
   "source": [
    "models = [\n",
    "    '../input/fgvc8hotel/export_res50_HQAdam.pkl', #v3\n",
    "    '../input/fgvc8hotel/export_dn161_Fa_CE_bs32.pkl', #v7\n",
    "    '../input/fgvc8hotel/export_dn161_Fa_FL_bs32.pkl', #v8\n",
    "    '../input/fgvc8hotel/export_res101_Fall_HQAdam.pkl', #v5\n",
    "    '../input/fgvc8hotel/export_res101_Fall_5it_4.pkl', #v11\n",
    "    '../input/hotel-train-fastai-densnet161/export_dn161_kaggle_notebook.pkl' # kaggle v2\n",
    "]"
   ]
  },
  {
   "cell_type": "code",
   "execution_count": 4,
   "id": "iraqi-movement",
   "metadata": {
    "execution": {
     "iopub.execute_input": "2021-05-26T06:28:40.871284Z",
     "iopub.status.busy": "2021-05-26T06:28:40.870801Z",
     "iopub.status.idle": "2021-05-26T06:28:40.874230Z",
     "shell.execute_reply": "2021-05-26T06:28:40.874583Z",
     "shell.execute_reply.started": "2021-05-26T06:26:51.276606Z"
    },
    "papermill": {
     "duration": 0.014155,
     "end_time": "2021-05-26T06:28:40.874696",
     "exception": false,
     "start_time": "2021-05-26T06:28:40.860541",
     "status": "completed"
    },
    "tags": []
   },
   "outputs": [],
   "source": [
    "image_path = '../input/hotel-id-2021-fgvc8/test_images/' "
   ]
  },
  {
   "cell_type": "code",
   "execution_count": 5,
   "id": "efficient-correspondence",
   "metadata": {
    "execution": {
     "iopub.execute_input": "2021-05-26T06:28:40.894696Z",
     "iopub.status.busy": "2021-05-26T06:28:40.894212Z",
     "iopub.status.idle": "2021-05-26T06:28:40.922159Z",
     "shell.execute_reply": "2021-05-26T06:28:40.921504Z",
     "shell.execute_reply.started": "2021-05-26T06:26:51.630115Z"
    },
    "papermill": {
     "duration": 0.039669,
     "end_time": "2021-05-26T06:28:40.922260",
     "exception": false,
     "start_time": "2021-05-26T06:28:40.882591",
     "status": "completed"
    },
    "tags": []
   },
   "outputs": [
    {
     "data": {
      "text/html": [
       "<div>\n",
       "<style scoped>\n",
       "    .dataframe tbody tr th:only-of-type {\n",
       "        vertical-align: middle;\n",
       "    }\n",
       "\n",
       "    .dataframe tbody tr th {\n",
       "        vertical-align: top;\n",
       "    }\n",
       "\n",
       "    .dataframe thead th {\n",
       "        text-align: right;\n",
       "    }\n",
       "</style>\n",
       "<table border=\"1\" class=\"dataframe\">\n",
       "  <thead>\n",
       "    <tr style=\"text-align: right;\">\n",
       "      <th></th>\n",
       "      <th>image</th>\n",
       "      <th>hotel_id</th>\n",
       "    </tr>\n",
       "  </thead>\n",
       "  <tbody>\n",
       "    <tr>\n",
       "      <th>0</th>\n",
       "      <td>../input/hotel-id-2021-fgvc8/test_images/99e91ad5f2870678.jpg</td>\n",
       "      <td>36363 53586 18807 64314 60181</td>\n",
       "    </tr>\n",
       "    <tr>\n",
       "      <th>1</th>\n",
       "      <td>../input/hotel-id-2021-fgvc8/test_images/b5cc62ab665591a9.jpg</td>\n",
       "      <td>36363 53586 18807 64314 60181</td>\n",
       "    </tr>\n",
       "    <tr>\n",
       "      <th>2</th>\n",
       "      <td>../input/hotel-id-2021-fgvc8/test_images/d5664a972d5a644b.jpg</td>\n",
       "      <td>36363 53586 18807 64314 60181</td>\n",
       "    </tr>\n",
       "  </tbody>\n",
       "</table>\n",
       "</div>"
      ],
      "text/plain": [
       "                                                           image  \\\n",
       "0  ../input/hotel-id-2021-fgvc8/test_images/99e91ad5f2870678.jpg   \n",
       "1  ../input/hotel-id-2021-fgvc8/test_images/b5cc62ab665591a9.jpg   \n",
       "2  ../input/hotel-id-2021-fgvc8/test_images/d5664a972d5a644b.jpg   \n",
       "\n",
       "                        hotel_id  \n",
       "0  36363 53586 18807 64314 60181  \n",
       "1  36363 53586 18807 64314 60181  \n",
       "2  36363 53586 18807 64314 60181  "
      ]
     },
     "execution_count": 5,
     "metadata": {},
     "output_type": "execute_result"
    }
   ],
   "source": [
    "submission = pd.read_csv('../input/hotel-id-2021-fgvc8/sample_submission.csv')\n",
    "\n",
    "test = submission.copy()\n",
    "\n",
    "test['image'] = '../input/hotel-id-2021-fgvc8/test_images/' +  test['image']\n",
    "#test['image'] = 'hotel-id-2021-fgvc8/test_images/' + test['image']\n",
    "test"
   ]
  },
  {
   "cell_type": "code",
   "execution_count": 6,
   "id": "increased-dealing",
   "metadata": {
    "execution": {
     "iopub.execute_input": "2021-05-26T06:28:40.943414Z",
     "iopub.status.busy": "2021-05-26T06:28:40.942856Z",
     "iopub.status.idle": "2021-05-26T06:29:22.226596Z",
     "shell.execute_reply": "2021-05-26T06:29:22.226172Z",
     "shell.execute_reply.started": "2021-05-26T06:26:52.420817Z"
    },
    "papermill": {
     "duration": 41.296017,
     "end_time": "2021-05-26T06:29:22.226719",
     "exception": false,
     "start_time": "2021-05-26T06:28:40.930702",
     "status": "completed"
    },
    "tags": []
   },
   "outputs": [
    {
     "data": {
      "text/html": [
       "\n",
       "    <div>\n",
       "        <style>\n",
       "            /* Turns off some styling */\n",
       "            progress {\n",
       "                /* gets rid of default border in Firefox and Opera. */\n",
       "                border: none;\n",
       "                /* Needs to be in here for Safari polyfill so background images work as expected. */\n",
       "                background-size: auto;\n",
       "            }\n",
       "            .progress-bar-interrupted, .progress-bar-interrupted::-webkit-progress-bar {\n",
       "                background: #F44336;\n",
       "            }\n",
       "        </style>\n",
       "      <progress value='0' class='' max='10' style='width:300px; height:20px; vertical-align: middle;'></progress>\n",
       "      \n",
       "    </div>\n",
       "    \n"
      ],
      "text/plain": [
       "<IPython.core.display.HTML object>"
      ]
     },
     "metadata": {},
     "output_type": "display_data"
    },
    {
     "data": {
      "text/html": [],
      "text/plain": [
       "<IPython.core.display.HTML object>"
      ]
     },
     "metadata": {},
     "output_type": "display_data"
    },
    {
     "data": {
      "text/html": [
       "\n",
       "    <div>\n",
       "        <style>\n",
       "            /* Turns off some styling */\n",
       "            progress {\n",
       "                /* gets rid of default border in Firefox and Opera. */\n",
       "                border: none;\n",
       "                /* Needs to be in here for Safari polyfill so background images work as expected. */\n",
       "                background-size: auto;\n",
       "            }\n",
       "            .progress-bar-interrupted, .progress-bar-interrupted::-webkit-progress-bar {\n",
       "                background: #F44336;\n",
       "            }\n",
       "        </style>\n",
       "      <progress value='0' class='' max='10' style='width:300px; height:20px; vertical-align: middle;'></progress>\n",
       "      \n",
       "    </div>\n",
       "    \n"
      ],
      "text/plain": [
       "<IPython.core.display.HTML object>"
      ]
     },
     "metadata": {},
     "output_type": "display_data"
    },
    {
     "data": {
      "text/html": [],
      "text/plain": [
       "<IPython.core.display.HTML object>"
      ]
     },
     "metadata": {},
     "output_type": "display_data"
    },
    {
     "data": {
      "text/html": [
       "\n",
       "    <div>\n",
       "        <style>\n",
       "            /* Turns off some styling */\n",
       "            progress {\n",
       "                /* gets rid of default border in Firefox and Opera. */\n",
       "                border: none;\n",
       "                /* Needs to be in here for Safari polyfill so background images work as expected. */\n",
       "                background-size: auto;\n",
       "            }\n",
       "            .progress-bar-interrupted, .progress-bar-interrupted::-webkit-progress-bar {\n",
       "                background: #F44336;\n",
       "            }\n",
       "        </style>\n",
       "      <progress value='0' class='' max='10' style='width:300px; height:20px; vertical-align: middle;'></progress>\n",
       "      \n",
       "    </div>\n",
       "    \n"
      ],
      "text/plain": [
       "<IPython.core.display.HTML object>"
      ]
     },
     "metadata": {},
     "output_type": "display_data"
    },
    {
     "data": {
      "text/html": [],
      "text/plain": [
       "<IPython.core.display.HTML object>"
      ]
     },
     "metadata": {},
     "output_type": "display_data"
    },
    {
     "data": {
      "text/html": [
       "\n",
       "    <div>\n",
       "        <style>\n",
       "            /* Turns off some styling */\n",
       "            progress {\n",
       "                /* gets rid of default border in Firefox and Opera. */\n",
       "                border: none;\n",
       "                /* Needs to be in here for Safari polyfill so background images work as expected. */\n",
       "                background-size: auto;\n",
       "            }\n",
       "            .progress-bar-interrupted, .progress-bar-interrupted::-webkit-progress-bar {\n",
       "                background: #F44336;\n",
       "            }\n",
       "        </style>\n",
       "      <progress value='0' class='' max='10' style='width:300px; height:20px; vertical-align: middle;'></progress>\n",
       "      \n",
       "    </div>\n",
       "    \n"
      ],
      "text/plain": [
       "<IPython.core.display.HTML object>"
      ]
     },
     "metadata": {},
     "output_type": "display_data"
    },
    {
     "data": {
      "text/html": [],
      "text/plain": [
       "<IPython.core.display.HTML object>"
      ]
     },
     "metadata": {},
     "output_type": "display_data"
    },
    {
     "data": {
      "text/html": [
       "\n",
       "    <div>\n",
       "        <style>\n",
       "            /* Turns off some styling */\n",
       "            progress {\n",
       "                /* gets rid of default border in Firefox and Opera. */\n",
       "                border: none;\n",
       "                /* Needs to be in here for Safari polyfill so background images work as expected. */\n",
       "                background-size: auto;\n",
       "            }\n",
       "            .progress-bar-interrupted, .progress-bar-interrupted::-webkit-progress-bar {\n",
       "                background: #F44336;\n",
       "            }\n",
       "        </style>\n",
       "      <progress value='0' class='' max='10' style='width:300px; height:20px; vertical-align: middle;'></progress>\n",
       "      \n",
       "    </div>\n",
       "    \n"
      ],
      "text/plain": [
       "<IPython.core.display.HTML object>"
      ]
     },
     "metadata": {},
     "output_type": "display_data"
    },
    {
     "data": {
      "text/html": [],
      "text/plain": [
       "<IPython.core.display.HTML object>"
      ]
     },
     "metadata": {},
     "output_type": "display_data"
    },
    {
     "data": {
      "text/html": [
       "\n",
       "    <div>\n",
       "        <style>\n",
       "            /* Turns off some styling */\n",
       "            progress {\n",
       "                /* gets rid of default border in Firefox and Opera. */\n",
       "                border: none;\n",
       "                /* Needs to be in here for Safari polyfill so background images work as expected. */\n",
       "                background-size: auto;\n",
       "            }\n",
       "            .progress-bar-interrupted, .progress-bar-interrupted::-webkit-progress-bar {\n",
       "                background: #F44336;\n",
       "            }\n",
       "        </style>\n",
       "      <progress value='0' class='' max='12' style='width:300px; height:20px; vertical-align: middle;'></progress>\n",
       "      \n",
       "    </div>\n",
       "    \n"
      ],
      "text/plain": [
       "<IPython.core.display.HTML object>"
      ]
     },
     "metadata": {},
     "output_type": "display_data"
    },
    {
     "data": {
      "text/html": [],
      "text/plain": [
       "<IPython.core.display.HTML object>"
      ]
     },
     "metadata": {},
     "output_type": "display_data"
    }
   ],
   "source": [
    "probs = None\n",
    "for model in models:\n",
    "    learn = load_learner(fname = Path(model), cpu=False, pickle_module=dill)\n",
    "    test_dl = learn.dls.test_dl(test)\n",
    "    probs_temp, _ = learn.tta(dl=test_dl, n=4)\n",
    "    \n",
    "    if probs == None:\n",
    "        probs = probs_temp\n",
    "    else:\n",
    "        probs += probs_temp\n"
   ]
  },
  {
   "cell_type": "code",
   "execution_count": 7,
   "id": "roman-warner",
   "metadata": {
    "execution": {
     "iopub.execute_input": "2021-05-26T06:29:22.257638Z",
     "iopub.status.busy": "2021-05-26T06:29:22.256901Z",
     "iopub.status.idle": "2021-05-26T06:29:22.260718Z",
     "shell.execute_reply": "2021-05-26T06:29:22.261095Z",
     "shell.execute_reply.started": "2021-05-26T06:27:35.583775Z"
    },
    "papermill": {
     "duration": 0.020411,
     "end_time": "2021-05-26T06:29:22.261216",
     "exception": false,
     "start_time": "2021-05-26T06:29:22.240805",
     "status": "completed"
    },
    "tags": []
   },
   "outputs": [],
   "source": [
    "preds_idx = probs.topk(5)[1]"
   ]
  },
  {
   "cell_type": "code",
   "execution_count": 8,
   "id": "separate-musician",
   "metadata": {
    "execution": {
     "iopub.execute_input": "2021-05-26T06:29:22.292920Z",
     "iopub.status.busy": "2021-05-26T06:29:22.291656Z",
     "iopub.status.idle": "2021-05-26T06:29:22.296566Z",
     "shell.execute_reply": "2021-05-26T06:29:22.297008Z",
     "shell.execute_reply.started": "2021-05-26T06:27:36.232619Z"
    },
    "papermill": {
     "duration": 0.022688,
     "end_time": "2021-05-26T06:29:22.297139",
     "exception": false,
     "start_time": "2021-05-26T06:29:22.274451",
     "status": "completed"
    },
    "tags": []
   },
   "outputs": [
    {
     "data": {
      "text/plain": [
       "['971 34608 9874 63210 32842',\n",
       " '62229 42885 41583 52660 44842',\n",
       " '60667 30644 2829 3011 12475']"
      ]
     },
     "execution_count": 8,
     "metadata": {},
     "output_type": "execute_result"
    }
   ],
   "source": [
    "preds = [' '.join(map(str, learn.dls.vocab[pred])) for pred in preds_idx]\n",
    "preds[:5]"
   ]
  },
  {
   "cell_type": "code",
   "execution_count": 9,
   "id": "structural-instrument",
   "metadata": {
    "execution": {
     "iopub.execute_input": "2021-05-26T06:29:22.328239Z",
     "iopub.status.busy": "2021-05-26T06:29:22.327651Z",
     "iopub.status.idle": "2021-05-26T06:29:22.465252Z",
     "shell.execute_reply": "2021-05-26T06:29:22.465759Z",
     "shell.execute_reply.started": "2021-05-26T06:27:37.062902Z"
    },
    "papermill": {
     "duration": 0.155516,
     "end_time": "2021-05-26T06:29:22.465917",
     "exception": false,
     "start_time": "2021-05-26T06:29:22.310401",
     "status": "completed"
    },
    "tags": []
   },
   "outputs": [
    {
     "data": {
      "text/html": [
       "<div>\n",
       "<style scoped>\n",
       "    .dataframe tbody tr th:only-of-type {\n",
       "        vertical-align: middle;\n",
       "    }\n",
       "\n",
       "    .dataframe tbody tr th {\n",
       "        vertical-align: top;\n",
       "    }\n",
       "\n",
       "    .dataframe thead th {\n",
       "        text-align: right;\n",
       "    }\n",
       "</style>\n",
       "<table border=\"1\" class=\"dataframe\">\n",
       "  <thead>\n",
       "    <tr style=\"text-align: right;\">\n",
       "      <th></th>\n",
       "      <th>image</th>\n",
       "      <th>hotel_id</th>\n",
       "    </tr>\n",
       "  </thead>\n",
       "  <tbody>\n",
       "    <tr>\n",
       "      <th>0</th>\n",
       "      <td>99e91ad5f2870678.jpg</td>\n",
       "      <td>971 34608 9874 63210 32842</td>\n",
       "    </tr>\n",
       "    <tr>\n",
       "      <th>1</th>\n",
       "      <td>b5cc62ab665591a9.jpg</td>\n",
       "      <td>62229 42885 41583 52660 44842</td>\n",
       "    </tr>\n",
       "    <tr>\n",
       "      <th>2</th>\n",
       "      <td>d5664a972d5a644b.jpg</td>\n",
       "      <td>60667 30644 2829 3011 12475</td>\n",
       "    </tr>\n",
       "  </tbody>\n",
       "</table>\n",
       "</div>"
      ],
      "text/plain": [
       "                  image                       hotel_id\n",
       "0  99e91ad5f2870678.jpg     971 34608 9874 63210 32842\n",
       "1  b5cc62ab665591a9.jpg  62229 42885 41583 52660 44842\n",
       "2  d5664a972d5a644b.jpg    60667 30644 2829 3011 12475"
      ]
     },
     "execution_count": 9,
     "metadata": {},
     "output_type": "execute_result"
    }
   ],
   "source": [
    "submission['hotel_id'] = preds\n",
    "\n",
    "submission.to_csv('submission.csv', index = False)\n",
    "\n",
    "submission.head()"
   ]
  },
  {
   "cell_type": "code",
   "execution_count": null,
   "id": "impressed-flight",
   "metadata": {
    "papermill": {
     "duration": 0.013529,
     "end_time": "2021-05-26T06:29:22.493770",
     "exception": false,
     "start_time": "2021-05-26T06:29:22.480241",
     "status": "completed"
    },
    "tags": []
   },
   "outputs": [],
   "source": []
  }
 ],
 "metadata": {
  "kernelspec": {
   "display_name": "Python 3",
   "language": "python",
   "name": "python3"
  },
  "language_info": {
   "codemirror_mode": {
    "name": "ipython",
    "version": 3
   },
   "file_extension": ".py",
   "mimetype": "text/x-python",
   "name": "python",
   "nbconvert_exporter": "python",
   "pygments_lexer": "ipython3",
   "version": "3.7.10"
  },
  "papermill": {
   "default_parameters": {},
   "duration": 53.667867,
   "end_time": "2021-05-26T06:29:24.786154",
   "environment_variables": {},
   "exception": null,
   "input_path": "__notebook__.ipynb",
   "output_path": "__notebook__.ipynb",
   "parameters": {},
   "start_time": "2021-05-26T06:28:31.118287",
   "version": "2.3.3"
  }
 },
 "nbformat": 4,
 "nbformat_minor": 5
}
