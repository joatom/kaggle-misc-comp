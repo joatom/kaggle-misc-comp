{
 "cells": [
  {
   "cell_type": "code",
   "execution_count": 26,
   "metadata": {},
   "outputs": [],
   "source": [
    "import os\n",
    "import numpy as np\n",
    "from PIL import Image\n",
    "\n",
    "\n",
    "from multiprocessing import Pool\n",
    "import tqdm"
   ]
  },
  {
   "cell_type": "code",
   "execution_count": null,
   "metadata": {},
   "outputs": [],
   "source": [
    "skf = StratifiedKFold(n_splits=N_SPLITS, random_state=None, shuffle=False)\n",
    "\n",
    "train.kfold = -1\n",
    "\n",
    "for f, (t,v) in enumerate(skf.split(X = train, y = train.label.values)):\n",
    "    train.loc[v, 'kfold'] = f\n",
    "\n",
    "train.groupby('kfold')['label'].count()"
   ]
  },
  {
   "cell_type": "code",
   "execution_count": 27,
   "metadata": {},
   "outputs": [],
   "source": [
    "kaggle_path = '../input/'"
   ]
  },
  {
   "cell_type": "code",
   "execution_count": 28,
   "metadata": {},
   "outputs": [],
   "source": [
    "#or f in range(92):\n",
    "def resz(f):\n",
    "    for dirname, _, filenames in os.walk(kaggle_path+'train_images_512/'+str(f)):\n",
    "        print(dirname)\n",
    "        for filename in filenames:\n",
    "            img = Image.open(dirname + '/' + filename)\n",
    "            # width is bigger than height\n",
    "            if np.argmax(img.size) == 0:\n",
    "                factor = 512/img.size[0]\n",
    "            else:\n",
    "                factor = 512/img.size[1]\n",
    "\n",
    "            \n",
    "            img = img.resize((int(img.size[0]*factor), int(img.size[1]*factor)), Image.ANTIALIAS)\n",
    "            img.save(dirname + '/' + filename)\n"
   ]
  },
  {
   "cell_type": "code",
   "execution_count": 29,
   "metadata": {},
   "outputs": [
    {
     "name": "stderr",
     "output_type": "stream",
     "text": [
      "  0%|          | 0/92 [00:00<?, ?it/s]"
     ]
    },
    {
     "name": "stdout",
     "output_type": "stream",
     "text": [
      "../input/train_images_512/1../input/train_images_512/2\n",
      "../input/train_images_512/3\n",
      "\n",
      "../input/train_images_512/0\n"
     ]
    },
    {
     "name": "stderr",
     "output_type": "stream",
     "text": [
      "/opt/conda/envs/ml/lib/python3.6/site-packages/PIL/Image.py:2835: DecompressionBombWarning: Image size (108576768 pixels) exceeds limit of 89478485 pixels, could be decompression bomb DOS attack.\n",
      "  DecompressionBombWarning,\n"
     ]
    },
    {
     "name": "stdout",
     "output_type": "stream",
     "text": [
      "../input/train_images_512/4\n",
      "../input/train_images_512/5\n",
      "../input/train_images_512/6\n",
      "../input/train_images_512/7\n",
      "../input/train_images_512/8\n",
      "../input/train_images_512/9\n",
      "../input/train_images_512/10\n",
      "../input/train_images_512/11\n",
      "../input/train_images_512/12\n",
      "../input/train_images_512/13\n",
      "../input/train_images_512/16\n",
      "../input/train_images_512/17\n",
      "../input/train_images_512/18\n",
      "../input/train_images_512/20\n",
      "../input/train_images_512/21\n",
      "../input/train_images_512/22\n",
      "../input/train_images_512/23\n",
      "../input/train_images_512/24\n",
      "../input/train_images_512/25\n",
      "../input/train_images_512/26\n",
      "../input/train_images_512/27\n",
      "../input/train_images_512/28\n",
      "../input/train_images_512/29\n",
      "../input/train_images_512/30\n",
      "../input/train_images_512/31\n",
      "../input/train_images_512/32\n",
      "../input/train_images_512/33\n",
      "../input/train_images_512/34\n",
      "../input/train_images_512/35\n",
      "../input/train_images_512/36\n",
      "../input/train_images_512/37\n",
      "../input/train_images_512/38\n",
      "../input/train_images_512/39\n",
      "../input/train_images_512/40\n",
      "../input/train_images_512/41\n",
      "../input/train_images_512/42\n",
      "../input/train_images_512/44\n",
      "../input/train_images_512/45\n",
      "../input/train_images_512/46\n",
      "../input/train_images_512/47\n",
      "../input/train_images_512/48\n",
      "../input/train_images_512/49\n",
      "../input/train_images_512/50\n",
      "../input/train_images_512/51\n",
      "../input/train_images_512/52\n",
      "../input/train_images_512/53\n",
      "../input/train_images_512/54\n",
      "../input/train_images_512/55\n",
      "../input/train_images_512/56\n",
      "../input/train_images_512/57\n",
      "../input/train_images_512/58\n",
      "../input/train_images_512/59\n",
      "../input/train_images_512/60\n",
      "../input/train_images_512/61\n",
      "../input/train_images_512/62\n",
      "../input/train_images_512/63\n",
      "../input/train_images_512/64\n",
      "../input/train_images_512/65\n",
      "../input/train_images_512/66\n",
      "../input/train_images_512/67\n",
      "../input/train_images_512/68\n",
      "../input/train_images_512/69\n",
      "../input/train_images_512/70\n",
      "../input/train_images_512/71\n",
      "../input/train_images_512/72\n",
      "../input/train_images_512/73\n",
      "../input/train_images_512/74\n",
      "../input/train_images_512/75\n",
      "../input/train_images_512/76\n",
      "../input/train_images_512/77\n",
      "../input/train_images_512/78\n",
      "../input/train_images_512/79\n",
      "../input/train_images_512/80\n",
      "../input/train_images_512/81\n",
      "../input/train_images_512/82\n",
      "../input/train_images_512/83\n"
     ]
    },
    {
     "name": "stderr",
     "output_type": "stream",
     "text": [
      "  1%|          | 1/92 [24:35<37:17:49, 1475.49s/it]"
     ]
    },
    {
     "name": "stdout",
     "output_type": "stream",
     "text": [
      "../input/train_images_512/84\n"
     ]
    },
    {
     "name": "stderr",
     "output_type": "stream",
     "text": [
      " 86%|████████▌ | 79/92 [25:01<3:43:48, 1032.94s/it]"
     ]
    },
    {
     "name": "stdout",
     "output_type": "stream",
     "text": [
      "../input/train_images_512/85\n",
      "../input/train_images_512/86\n",
      "../input/train_images_512/87\n",
      "../input/train_images_512/88\n"
     ]
    },
    {
     "name": "stderr",
     "output_type": "stream",
     "text": [
      " 90%|█████████ | 83/92 [27:21<1:50:02, 733.58s/it] "
     ]
    },
    {
     "name": "stdout",
     "output_type": "stream",
     "text": [
      "../input/train_images_512/89\n"
     ]
    },
    {
     "name": "stderr",
     "output_type": "stream",
     "text": [
      " 95%|█████████▍| 87/92 [28:00<43:02, 516.41s/it]  "
     ]
    },
    {
     "name": "stdout",
     "output_type": "stream",
     "text": [
      "../input/train_images_512/90\n",
      "../input/train_images_512/91\n"
     ]
    },
    {
     "name": "stderr",
     "output_type": "stream",
     "text": [
      "100%|██████████| 92/92 [31:58<00:00, 20.86s/it] \n"
     ]
    }
   ],
   "source": [
    "with Pool(4) as p:\n",
    "    res =  list(tqdm.tqdm(p.imap(resz, range(92)), total=92))"
   ]
  },
  {
   "cell_type": "code",
   "execution_count": null,
   "metadata": {},
   "outputs": [],
   "source": []
  }
 ],
 "metadata": {
  "kernelspec": {
   "display_name": "Python [conda env:ml]",
   "language": "python",
   "name": "conda-env-ml-py"
  },
  "language_info": {
   "codemirror_mode": {
    "name": "ipython",
    "version": 3
   },
   "file_extension": ".py",
   "mimetype": "text/x-python",
   "name": "python",
   "nbconvert_exporter": "python",
   "pygments_lexer": "ipython3",
   "version": "3.6.12"
  }
 },
 "nbformat": 4,
 "nbformat_minor": 4
}
